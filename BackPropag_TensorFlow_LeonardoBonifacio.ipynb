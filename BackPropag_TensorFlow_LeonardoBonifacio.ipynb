{
 "cells": [
  {
   "cell_type": "markdown",
   "metadata": {},
   "source": [
    "## Back propagation com Tensorflow"
   ]
  },
  {
   "cell_type": "code",
   "execution_count": 1,
   "metadata": {},
   "outputs": [],
   "source": [
    "import tensorflow as tf\n",
    "import numpy as np"
   ]
  },
  {
   "cell_type": "code",
   "execution_count": 2,
   "metadata": {},
   "outputs": [],
   "source": [
    "entrada = np.array([[0,0],\n",
    "                    [0,1],\n",
    "                    [1,0],\n",
    "                    [1,1]])\n",
    "\n",
    "target_AND = np.array([[0.0],\n",
    "                       [0.0],\n",
    "                       [0.0],\n",
    "                       [1.0]])\n",
    "\n",
    "target_OR = np.array([[0.0],\n",
    "                      [1.0],\n",
    "                      [1.0],\n",
    "                      [1.0]])\n",
    "\n",
    "target_XOR = np.array([[0.0],\n",
    "                       [1.0],\n",
    "                       [1.0],\n",
    "                       [0.0]])"
   ]
  },
  {
   "cell_type": "code",
   "execution_count": 3,
   "metadata": {},
   "outputs": [],
   "source": [
    "def sigmoid(x, derivada=False):\n",
    "    if not devidada:\n",
    "        return tf.div(tf.constant(1.0),\n",
    "                  tf.add(tf.constant(1.0), tf.exp(tf.negative(x))))\n",
    "    else:\n",
    "        return tf.multiply(sigmoid(x), tf.subtract(tf.constant(1.0), sigmoid(x)))"
   ]
  },
  {
   "cell_type": "code",
   "execution_count": 4,
   "metadata": {},
   "outputs": [],
   "source": [
    "# Constante\n",
    "x = tf.constant(entrada, dtype= tf.float32) # Entrada"
   ]
  },
  {
   "cell_type": "code",
   "execution_count": 5,
   "metadata": {},
   "outputs": [],
   "source": [
    "# Y também é constante, mas foi colocado em uma função para inicilizar targets diferentes (AND, OR, XOR) de maneira mais fácil.\n",
    "def inicializarY(target):\n",
    "    y = tf.constant(target, dtype = tf.float32) # Target\n",
    "    \n",
    "    return y"
   ]
  },
  {
   "cell_type": "code",
   "execution_count": 6,
   "metadata": {},
   "outputs": [],
   "source": [
    "# Camada oculta\n",
    "w1 = tf.Variable(tf.random_uniform( [2,4] , minval=0.1 , maxval=0.9 , dtype=tf.float32)) \n",
    "b1 = tf.Variable(tf.random_uniform( [4] , minval=0.1 , maxval=0.9 , dtype=tf.float32))\n",
    "h1 = tf.sigmoid(tf.matmul(x, w1) + b1)"
   ]
  },
  {
   "cell_type": "code",
   "execution_count": 7,
   "metadata": {},
   "outputs": [],
   "source": [
    "# Camada de saída\n",
    "w2 = tf.Variable(tf.random_uniform( [4,1] , minval=0.1 , maxval=0.9 , dtype=tf.float32)) \n",
    "b2 = tf.Variable( tf.random_uniform( [1]   , minval=0.1 , maxval=0.9 , dtype=tf.float32  ))\n",
    "saida = tf.sigmoid(tf.matmul(h1,w2) + b2)"
   ]
  },
  {
   "cell_type": "code",
   "execution_count": 8,
   "metadata": {},
   "outputs": [],
   "source": [
    "# Função para cálculo de erro\n",
    "def erro(target, saida):\n",
    "    return tf.losses.mean_squared_error(target, saida)"
   ]
  },
  {
   "cell_type": "code",
   "execution_count": 9,
   "metadata": {},
   "outputs": [],
   "source": [
    "start = tf.global_variables_initializer()"
   ]
  },
  {
   "cell_type": "code",
   "execution_count": 10,
   "metadata": {},
   "outputs": [],
   "source": [
    "# Sentido backward\n",
    "def treinamento(target, epocas, learning_rate, verbose = False):\n",
    "    y = inicializarY(target)\n",
    "    loss = erro(y, saida)\n",
    "    train = tf.train.GradientDescentOptimizer(learning_rate).minimize(loss)\n",
    "    custo_val = []\n",
    "    \n",
    "    with tf.Session() as sess:\n",
    "        sess.run(start)\n",
    "    \n",
    "        for j in range(epocas):\n",
    "            [_, custo] = sess.run([train, loss])\n",
    "            custo_val.append(custo)\n",
    "            \n",
    "        resultados = sess.run([saida, loss])\n",
    "        labels  = \"saída,erro (MSE)\".split(\",\")\n",
    "        \n",
    "        print(\"target\")\n",
    "        print(target)\n",
    "        for label,result in zip(*(labels,resultados)) :\n",
    "            print (\"\")\n",
    "            print (label)\n",
    "            print (result)\n",
    "            \n",
    "    return custo_val"
   ]
  },
  {
   "cell_type": "code",
   "execution_count": 11,
   "metadata": {},
   "outputs": [],
   "source": [
    "epocas = 10000\n",
    "lr = 0.3"
   ]
  },
  {
   "cell_type": "code",
   "execution_count": 12,
   "metadata": {},
   "outputs": [
    {
     "name": "stdout",
     "output_type": "stream",
     "text": [
      "target\n",
      "[[0.]\n",
      " [0.]\n",
      " [0.]\n",
      " [1.]]\n",
      "\n",
      "saída\n",
      "[[6.7980302e-04]\n",
      " [2.0181853e-02]\n",
      " [2.0443393e-02]\n",
      " [9.7389096e-01]]\n",
      "\n",
      "erro (MSE)\n",
      "0.0003768459\n"
     ]
    }
   ],
   "source": [
    "custo_AND = treinamento(target_AND, epocas, lr)"
   ]
  },
  {
   "cell_type": "code",
   "execution_count": 13,
   "metadata": {},
   "outputs": [
    {
     "name": "stdout",
     "output_type": "stream",
     "text": [
      "target\n",
      "[[0.]\n",
      " [1.]\n",
      " [1.]\n",
      " [1.]]\n",
      "\n",
      "saída\n",
      "[[0.02946308]\n",
      " [0.98350394]\n",
      " [0.9831934 ]\n",
      " [0.99807906]]\n",
      "\n",
      "erro (MSE)\n",
      "0.00035658618\n"
     ]
    }
   ],
   "source": [
    "custo_OR = treinamento(target_OR, epocas, lr)"
   ]
  },
  {
   "cell_type": "code",
   "execution_count": 14,
   "metadata": {},
   "outputs": [
    {
     "name": "stdout",
     "output_type": "stream",
     "text": [
      "target\n",
      "[[0.]\n",
      " [1.]\n",
      " [1.]\n",
      " [0.]]\n",
      "\n",
      "saída\n",
      "[[0.03980541]\n",
      " [0.96490866]\n",
      " [0.96539026]\n",
      " [0.03562785]]\n",
      "\n",
      "erro (MSE)\n",
      "0.0013207626\n"
     ]
    }
   ],
   "source": [
    "custo_XOR = treinamento(target_XOR, epocas, lr)"
   ]
  },
  {
   "cell_type": "markdown",
   "metadata": {},
   "source": [
    "### Visualização gráfica da queda da função de custo"
   ]
  },
  {
   "cell_type": "code",
   "execution_count": 15,
   "metadata": {},
   "outputs": [
    {
     "data": {
      "text/plain": [
       "Text(0.5, 1.0, 'Descida da função de custo')"
      ]
     },
     "execution_count": 15,
     "metadata": {},
     "output_type": "execute_result"
    },
    {
     "data": {
      "image/png": "[encoded data removed]",
      "text/plain": [
       "<Figure size 432x288 with 1 Axes>"
      ]
     },
     "metadata": {
      "needs_background": "light"
     },
     "output_type": "display_data"
    }
   ],
   "source": [
    "import matplotlib.pyplot as plt\n",
    "%matplotlib inline\n",
    "\n",
    "plt.plot(custo_OR, label = 'Custo OR', color = 'red')\n",
    "plt.plot(custo_XOR, label = 'Custo XOR', color = 'blue')\n",
    "plt.plot(custo_AND, label = 'Custo AND', color = 'green')\n",
    "plt.legend()\n",
    "plt.xlabel('Épocas', size = 15)\n",
    "plt.ylabel('Valor', size = 15)\n",
    "plt.title('Descida da função de custo', size = 20)"
   ]
  }
 ],
 "metadata": {
  "kernelspec": {
   "display_name": "Python 3",
   "language": "python",
   "name": "python3"
  },
  "language_info": {
   "codemirror_mode": {
    "name": "ipython",
    "version": 3
   },
   "file_extension": ".py",
   "mimetype": "text/x-python",
   "name": "python",
   "nbconvert_exporter": "python",
   "pygments_lexer": "ipython3",
   "version": "3.6.8"
  }
 },
 "nbformat": 4,
 "nbformat_minor": 2
}
